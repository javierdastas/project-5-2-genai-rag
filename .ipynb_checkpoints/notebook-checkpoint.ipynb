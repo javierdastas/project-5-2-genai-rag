{
 "cells": [
  {
   "cell_type": "code",
   "execution_count": 23,
   "id": "6021b02c-39ec-495a-a7cd-df9bd6957a5c",
   "metadata": {},
   "outputs": [],
   "source": [
    "%%capture\n",
    "\n",
    "## Install dependencies\n",
    "!pip install langchain chromadb sentence-transformers"
   ]
  },
  {
   "cell_type": "markdown",
   "id": "e51f2627-db3a-4732-8ace-faba0f3f20a8",
   "metadata": {},
   "source": [
    "## Chunks Embedding"
   ]
  },
  {
   "cell_type": "code",
   "execution_count": 35,
   "id": "f0d93967-74bf-4dad-ac53-f7f069a90216",
   "metadata": {},
   "outputs": [],
   "source": [
    "import os\n",
    "\n",
    "from langchain.embeddings import HuggingFaceEmbeddings\n",
    "from langchain.vectorstores import Chroma"
   ]
  },
  {
   "cell_type": "code",
   "execution_count": 37,
   "id": "a28ae0be-781b-4591-b9e4-6229d242809c",
   "metadata": {},
   "outputs": [],
   "source": [
    "# Directory containing chunked files\n",
    "chunked_dir = \"./data/elmundo_chunked_en_page1_15years\""
   ]
  },
  {
   "cell_type": "code",
   "execution_count": 39,
   "id": "7566850b-6998-406c-a2ac-2170135595cb",
   "metadata": {},
   "outputs": [],
   "source": [
    "# Initialize the embedding model (Hugging Face)\n",
    "embedding_model = HuggingFaceEmbeddings(model_name=\"sentence-transformers/all-MiniLM-L6-v2\")\n",
    "\n",
    "# Prepare documents (read all chunks)\n",
    "documents = []\n",
    "for file_name in os.listdir(chunked_dir):\n",
    "    file_path = os.path.join(chunked_dir, file_name)\n",
    "    with open(file_path, 'r', encoding='utf-8') as file:\n",
    "        content = file.read().strip()\n",
    "        documents.append(content)\n",
    "\n",
    "# Create vector database using Chroma\n",
    "vector_db = Chroma.from_texts(documents, embedding_model)"
   ]
  },
  {
   "cell_type": "markdown",
   "id": "348e5c8d-e127-493b-86b5-0e8f1a597bc4",
   "metadata": {},
   "source": [
    "## Exploratory Data Analysis (EDA)"
   ]
  },
  {
   "cell_type": "code",
   "execution_count": 42,
   "id": "8fefed2c-30ca-4c57-900e-878fc8eba463",
   "metadata": {},
   "outputs": [],
   "source": [
    "import pandas as pd\n",
    "import matplotlib.pyplot as plt"
   ]
  },
  {
   "cell_type": "code",
   "execution_count": 52,
   "id": "7ae2943f-463a-4354-a127-6d0a9a23842f",
   "metadata": {},
   "outputs": [],
   "source": [
    "# Reading the files and creating a DataFrame to analyze the chunks\n",
    "documents = []\n",
    "\n",
    "for file_name in os.listdir(chunked_dir):\n",
    "    file_path = os.path.join(chunked_dir, file_name)\n",
    "    with open(file_path, 'r', encoding='utf-8') as file:\n",
    "        content = file.read().strip()\n",
    "        documents.append({'file_name': file_name, 'content': content})\n",
    "\n",
    "# Create a DataFrame for EDA\n",
    "df = pd.DataFrame(documents)"
   ]
  },
  {
   "cell_type": "code",
   "execution_count": 48,
   "id": "5ef2a562-e993-45d8-863b-21577517a994",
   "metadata": {},
   "outputs": [
    {
     "name": "stdout",
     "output_type": "stream",
     "text": [
      "\n",
      "Sample rows from the dataset:\n",
      "\n",
      "          file_name                                            content\n",
      "583  19201009_1.txt  EL MONDO\\n- Offices: Salvador Brau. 81 Tel. 83...\n",
      "254  19250606_1.txt  ELMÜNDO\\n1 PAGES. 3 CTS. /I Betaeatj-e J4.00 \"...\n",
      "153  19480417_1.txt  . r - ; -- -- ; THE WORLD\\nWEATHER FORECASTS F...\n",
      "303  19260220_1.txt  ELMONDO\\nM' PAGS.3CTÍ7 VflctaB: \"Puerto Bico *...\n",
      "110  19471213_1.txt  THE WORLD\\nWEATHER \"FORECAST\" FOR THE ISLAND, ...\n"
     ]
    }
   ],
   "source": [
    "# Sample rows for inspection\n",
    "print(\"\\nSample rows from the dataset:\\n\")\n",
    "print(df.sample(5)) # also could use \"df.head(5)\""
   ]
  },
  {
   "cell_type": "code",
   "execution_count": 46,
   "id": "5cf0e1aa-9cd3-4189-bd08-acafab5b4b03",
   "metadata": {},
   "outputs": [
    {
     "name": "stdout",
     "output_type": "stream",
     "text": [
      "\n",
      "Basic Dataset Information:\n",
      "\n",
      "<class 'pandas.core.frame.DataFrame'>\n",
      "RangeIndex: 821 entries, 0 to 820\n",
      "Data columns (total 2 columns):\n",
      " #   Column     Non-Null Count  Dtype \n",
      "---  ------     --------------  ----- \n",
      " 0   file_name  821 non-null    object\n",
      " 1   content    821 non-null    object\n",
      "dtypes: object(2)\n",
      "memory usage: 13.0+ KB\n",
      "None\n"
     ]
    }
   ],
   "source": [
    "# Basic overview of the dataset\n",
    "print(\"\\nBasic Dataset Information:\\n\")\n",
    "print(df.info())"
   ]
  },
  {
   "cell_type": "code",
   "execution_count": 54,
   "id": "d90cc30d-93c3-42b7-91a5-3b85996d8ed5",
   "metadata": {},
   "outputs": [
    {
     "name": "stdout",
     "output_type": "stream",
     "text": [
      "\n",
      "Number of files with missing content: 0\n"
     ]
    }
   ],
   "source": [
    "# Check for missing or empty content\n",
    "missing_content = df['content'].isnull().sum()\n",
    "print(f\"\\nNumber of files with missing content: {missing_content}\")"
   ]
  },
  {
   "cell_type": "code",
   "execution_count": 58,
   "id": "9104da45-e3ab-4e2b-a33e-b1635aada296",
   "metadata": {},
   "outputs": [
    {
     "name": "stdout",
     "output_type": "stream",
     "text": [
      "\n",
      "Number of duplicate documents: 0\n"
     ]
    }
   ],
   "source": [
    "# Checking for duplicate content\n",
    "duplicate_count = df.duplicated(subset=['content']).sum()\n",
    "print(f\"\\nNumber of duplicate documents: {duplicate_count}\")"
   ]
  },
  {
   "cell_type": "code",
   "execution_count": 56,
   "id": "a46feaae-05c5-4a7c-90ff-2860be0c3b28",
   "metadata": {},
   "outputs": [
    {
     "name": "stdout",
     "output_type": "stream",
     "text": [
      "\n",
      "Document Length Statistics:\n",
      "\n",
      "count      821.000000\n",
      "mean     19766.438490\n",
      "std       5873.254742\n",
      "min       6340.000000\n",
      "25%      15527.000000\n",
      "50%      18631.000000\n",
      "75%      24750.000000\n",
      "max      33801.000000\n",
      "Name: content_length, dtype: float64\n"
     ]
    }
   ],
   "source": [
    "# Document length statistics\n",
    "df['content_length'] = df['content'].apply(len) # Create a new column with the content length\n",
    "length_stats = df['content_length'].describe()\n",
    "\n",
    "print(\"\\nDocument Length Statistics:\\n\")\n",
    "print(length_stats)"
   ]
  },
  {
   "cell_type": "code",
   "execution_count": 60,
   "id": "5462d8ae-490e-40c0-a2ef-2530b9fb22fe",
   "metadata": {},
   "outputs": [
    {
     "data": {
      "image/png": "[encoded data removed]",
      "text/plain": [
       "<Figure size 800x600 with 1 Axes>"
      ]
     },
     "metadata": {},
     "output_type": "display_data"
    }
   ],
   "source": [
    "# Distribution plot of document lengths\n",
    "plt.figure(figsize=(8, 6))\n",
    "plt.hist(df['content_length'], bins=50, color='skyblue', edgecolor='black')\n",
    "\n",
    "plt.title('Distribution of Document Lengths')\n",
    "plt.xlabel('Document Length (characters)')\n",
    "plt.ylabel('Frequency')\n",
    "plt.show()"
   ]
  },
  {
   "cell_type": "markdown",
   "id": "26e9d835-14b2-4e38-8a70-9528fb05abd0",
   "metadata": {},
   "source": [
    "### Findings on EDA\n",
    "\n",
    "1. Structure: The dataset consists of chunked text files stored with their file names.\n",
    "2. Missing Content: No missing content observed based on the checks.\n",
    "3. Duplicates: Not duplicates in the content.\n",
    "4. Document Lengths: It varies, with descriptive statistics revealing that a lot of content easily exceeds 5,000 characters.\n",
    "\n",
    "#### Initial Thoughts:\n",
    "- Potential challenges since the content length vary (some easily exceed 5,000 characters), the allowed token limit may be exceeded when combining multiple chunks in a model query.\n",
    "- However, the dataset appears suitable for retrieval tasks, given the text fragments and structured format.\n",
    "\n",
    "#### Considerations for RAG system development:\n",
    "- The chunked format of the dataset is advantageous for chunk size reduction, vectorization, and semantic search.\n",
    "Options:\n",
    "    - Use Sliding Window, overlaying small portions of text to ensure context.\n",
    "    - Implement a preprocessing stage to summarize long content before vectorizing it, using summarization models such as those available in Hugging Face.\n",
    "- Embedding each chunk and storing it in a VectorDB database (e.g. ChromaDB) will allow for efficient retrieval.\n",
    "- Integrating relevant context from retrieved documents will improve response generation.\n",
    "    - Use similarity search with embeddings (e.g. ChromaDB) to retrieve only the most relevant chunks."
   ]
  },
  {
   "cell_type": "markdown",
   "id": "99cb2e52-1e0e-4314-a810-d061aec9869a",
   "metadata": {},
   "source": [
    "### ETL Process"
   ]
  },
  {
   "cell_type": "code",
   "execution_count": 88,
   "id": "4a91cac1-7047-4c25-a6e2-438dea671334",
   "metadata": {},
   "outputs": [],
   "source": [
    "from langchain.vectorstores import Chroma\n",
    "from langchain.embeddings import HuggingFaceEmbeddings\n",
    "from langchain.text_splitter import RecursiveCharacterTextSplitter"
   ]
  },
  {
   "cell_type": "code",
   "execution_count": 185,
   "id": "604f0b5a-dd58-41fe-aaa7-bce4264c783f",
   "metadata": {},
   "outputs": [
    {
     "name": "stdout",
     "output_type": "stream",
     "text": [
      "Splitting chunks ...\n",
      "Splitting finished.\n"
     ]
    }
   ],
   "source": [
    "# Initialize the RecursiveCharacterTextSplitter\n",
    "recursive_splitter = RecursiveCharacterTextSplitter(\n",
    "    chunk_size=500,\n",
    "    chunk_overlap=100, # recomended 10% to 20% from chunk size\n",
    "    separators=[\"\\n\\n\", \". \", \" \"],  # Tries to split by paragraphs first, then sentences, then words\n",
    ")\n",
    "\n",
    "print('Splitting chunks ...')\n",
    "\n",
    "# Split the content efficiently\n",
    "documents = []\n",
    "# for index, row in df.iterrows():\n",
    "#     file_name = row['file_name']\n",
    "#     content = row['content']\n",
    "#     chunks = recursive_splitter.split_text(content)\n",
    "#     for chunk in chunks:\n",
    "#         documents.append({\"content\": chunk, \"source\": file_name})\n",
    "\n",
    "# Split the content efficiently and store metadata\n",
    "for index, row in df.iterrows():\n",
    "    file_name = row['file_name']\n",
    "    content = row['content']\n",
    "    chunks = recursive_splitter.split_text(content)\n",
    "    for chunk in chunks:\n",
    "        documents.append({\"content\": chunk, \"metadata\": {\"source\": file_name}})\n",
    "\n",
    "print('Splitting finished.')"
   ]
  },
  {
   "cell_type": "code",
   "execution_count": 187,
   "id": "7ca5e06a-1551-460a-80f3-227ca5f609ac",
   "metadata": {},
   "outputs": [
    {
     "name": "stdout",
     "output_type": "stream",
     "text": [
      "ChromaDb Storing process ...\n",
      "ChromaDb Storing process ...\n",
      "Inserting batch 1 of size 40000...\n",
      "Inserting batch 2 of size 4213...\n",
      "Chunks have been successfully split, vectorized, and stored in the vector database.\n"
     ]
    }
   ],
   "source": [
    "# Initialize embedding model\n",
    "embedding_model = HuggingFaceEmbeddings(model_name=\"sentence-transformers/all-MiniLM-L6-v2\")\n",
    "\n",
    "print('ChromaDb Storing process ...')\n",
    "\n",
    "# Convert to a list of texts and metadata for vectorization\n",
    "texts = [doc[\"content\"] for doc in documents]\n",
    "metadatas = [doc[\"metadata\"] for doc in documents]\n",
    "\n",
    "#### THE BATCHS QUANTITY ERROR, LOT OF BATCHES TO WRITE\n",
    "# # Convert to a list of texts for vectorization\n",
    "# texts = [doc[\"content\"] for doc in documents]\n",
    "# # Vectorize and store in ChromaDB\n",
    "# vector_db = Chroma.from_texts(\n",
    "#     texts, \n",
    "#     embedding_model,\n",
    "#     persist_directory=\"./chroma_db\"\n",
    "# )\n",
    "\n",
    "# def batch_insert_texts(texts, embedding_model, persist_directory, batch_size=40000):\n",
    "#     \"\"\"Insert texts in batches to avoid exceeding the maximum batch size.\"\"\"\n",
    "#     for i in range(0, len(texts), batch_size):\n",
    "#         batch_texts = texts[i:i + batch_size]\n",
    "#         print(f\"Inserting batch {i // batch_size + 1} of size {len(batch_texts)}...\")\n",
    "#         Chroma.from_texts(batch_texts, embedding_model, persist_directory=persist_directory)\n",
    "\n",
    "# Batch insertion function to handle large datasets\n",
    "def batch_insert_texts(texts, metadatas, embedding_model, persist_directory, batch_size=40000):\n",
    "    \"\"\"Insert texts and associated metadata in batches to avoid exceeding the maximum batch size.\"\"\"\n",
    "    for i in range(0, len(texts), batch_size):\n",
    "        batch_texts = texts[i:i + batch_size]\n",
    "        batch_metadatas = metadatas[i:i + batch_size]\n",
    "        print(f\"Inserting batch {i // batch_size + 1} of size {len(batch_texts)}...\")\n",
    "        Chroma.from_texts(\n",
    "            batch_texts,\n",
    "            embedding_model,\n",
    "            metadatas=batch_metadatas,\n",
    "            persist_directory=persist_directory\n",
    "        )\n",
    "\n",
    "# Insert texts in batches\n",
    "# batch_insert_texts(\n",
    "#     texts=texts,\n",
    "#     embedding_model=embedding_model,\n",
    "#     persist_directory=\"./chroma_db\",\n",
    "#     batch_size=40000  # Adjust batch size if necessary\n",
    "# )\n",
    "\n",
    "# Insert texts and metadata in batches\n",
    "batch_insert_texts(\n",
    "    texts=texts,\n",
    "    metadatas=metadatas,\n",
    "    embedding_model=embedding_model,\n",
    "    persist_directory=\"./chroma_db\",\n",
    "    batch_size=40000  # Adjust batch size if necessary\n",
    ")\n",
    "\n",
    "print(\"Chunks have been successfully split, vectorized, and stored in the vector database.\")"
   ]
  },
  {
   "cell_type": "code",
   "execution_count": null,
   "id": "607a31eb-a34d-4b4e-be92-5707868c5bdf",
   "metadata": {},
   "outputs": [],
   "source": []
  },
  {
   "cell_type": "code",
   "execution_count": 219,
   "id": "f4285c72-2970-454e-bf58-d69e0075377c",
   "metadata": {},
   "outputs": [
    {
     "name": "stdout",
     "output_type": "stream",
     "text": [
      "SentenceTransformer Embedding Vector: [0.06662759929895401, 0.013993947766721249, 0.009934347122907639, 0.1170114278793335, 0.012308242730796337, -0.016347035765647888, -0.04397964105010033, -0.023287108168005943, -0.022707929834723473, -0.0012624622322618961, 0.031106624752283096, 0.008816748857498169, -0.010537777096033096, -0.016138488426804543, 0.010201184079051018, 0.0077844359911978245, -0.02792900614440441, -0.03427750989794731, 0.015251870267093182, 0.006409345660358667, 0.010645732283592224, -0.01788138970732689, -0.09436211735010147, -0.0017113065114244819, -0.009319481439888477, -0.015047031454741955, -0.019765324890613556, 0.03430965542793274, -0.06701117008924484, -0.0362224280834198]\n"
     ]
    }
   ],
   "source": [
    "query = \"What is the economic impact of hurricanes in Puerto Rico?\"\n",
    "\n",
    "sentence_transformer_vector = embedding_model.embed_query(user_query)\n",
    "\n",
    "print(f\"SentenceTransformer Embedding Vector: {sentence_transformer_vector[0:30]}\")"
   ]
  },
  {
   "cell_type": "code",
   "execution_count": null,
   "id": "8158a29d-b22f-45d1-9085-211ec470566f",
   "metadata": {},
   "outputs": [],
   "source": [
    "# from langchain_experimental.text_splitter import SemanticChunker\n",
    "\n",
    "# semantic_chunk_splitter = SemanticChunker(sentence_transformer_embeddings)\n"
   ]
  },
  {
   "cell_type": "markdown",
   "id": "f3c5179e-3afc-4a23-a1a5-ac5926eb40d8",
   "metadata": {},
   "source": [
    "## Retrieval with ChromaDB"
   ]
  },
  {
   "cell_type": "code",
   "execution_count": 189,
   "id": "e2d19ffd-4bd3-4386-9ec7-f2f16323aedd",
   "metadata": {},
   "outputs": [],
   "source": [
    "# Load the persisted ChromaDB\n",
    "vector_db = Chroma(persist_directory=\"./chroma_db\", embedding_function=embedding_model)"
   ]
  },
  {
   "cell_type": "code",
   "execution_count": 229,
   "id": "07fb716a-41c6-416b-a4bc-3f50b4185318",
   "metadata": {},
   "outputs": [
    {
     "name": "stdout",
     "output_type": "stream",
     "text": [
      "\n",
      "Document 1:\n",
      "Source: Unknown\n",
      "Content: . Muñoz Marin, it is said of him that \"he moved in the political life of Puerto Rico, during the elections last November, with the irresistible force of a Caribbean hurricane\". It is added in this article that Puerto Rico could hardly have found a more appropriate person to be its first elected Gove...\n",
      "\n",
      "Document 2:\n",
      "Source: 19481211_1.txt\n",
      "Content: . Muñoz Marin, it is said of him that \"he moved in the political life of Puerto Rico, during the elections last November, with the irresistible force of a Caribbean hurricane\". It is added in this article that Puerto Rico could hardly have found a more appropriate person to be its first elected Gove...\n",
      "\n",
      "Document 3:\n",
      "Source: Unknown\n",
      "Content: . Above we see the moment when Governor Morris De Castro took the Oath of Office.\n",
      "Castro took the Oath of Office before U.S. District Judge Herman E. Moore. Below are from left to right: Mrs. Morris de Caatro, the Governor, the Acting Governor of the Virgin Islands, and the Governor of the Virgin Is...\n",
      "\n",
      "Document 4:\n",
      "Source: 19500325_1.txt\n",
      "Content: . Above we see the moment when Governor Morris De Castro took the Oath of Office.\n",
      "Castro took the Oath of Office before U.S. District Judge Herman E. Moore. Below are from left to right: Mrs. Morris de Caatro, the Governor, the Acting Governor of the Virgin Islands, and the Governor of the Virgin Is...\n",
      "\n",
      "Document 5:\n",
      "Source: Unknown\n",
      "Content: . - Mr. Governor: As the Legislative Assembly of the people of Puerto Rico, the highest representation of the country, meets, continued on p. 15, col. 3,\n",
      "HUYKE DESISTS FROM THE MEETING\n",
      "M The Commissioner of Public Instruction, Mr. Juan B...\n",
      "\n",
      "Document 6:\n",
      "Source: 19291207_1.txt\n",
      "Content: . - Mr. Governor: As the Legislative Assembly of the people of Puerto Rico, the highest representation of the country, meets, continued on p. 15, col. 3,\n",
      "HUYKE DESISTS FROM THE MEETING\n",
      "M The Commissioner of Public Instruction, Mr. Juan B...\n",
      "\n",
      "Document 7:\n",
      "Source: Unknown\n",
      "Content: . José G. Torres, interim governor, during the absence of Mr. Antonio Barcelé, in Cuba and Washington. The vote of confidence was against the independent movement and in favor of statehood, and there was only the vote against Mr. Coll y Cuchí, speaker of the Assembly, who now appears as the child on...\n",
      "\n",
      "Document 8:\n",
      "Source: 19211001_1.txt\n",
      "Content: . José G. Torres, interim governor, during the absence of Mr. Antonio Barcelé, in Cuba and Washington. The vote of confidence was against the independent movement and in favor of statehood, and there was only the vote against Mr. Coll y Cuchí, speaker of the Assembly, who now appears as the child on...\n",
      "\n",
      "Document 9:\n",
      "Source: Unknown\n",
      "Content: . Members of the U.S. Supreme Court and other judicial officers have also been invited. Also invited are representatives of the U.S. Press and other writers who are friends of Mr. Marin and Governor Piferio. Five Former Governors The former Governors of Puerto Rico, still living, Messrs. William H. ...\n",
      "\n",
      "Document 10:\n",
      "Source: 19481211_1.txt\n",
      "Content: . Members of the U.S. Supreme Court and other judicial officers have also been invited. Also invited are representatives of the U.S. Press and other writers who are friends of Mr. Marin and Governor Piferio. Five Former Governors The former Governors of Puerto Rico, still living, Messrs. William H. ...\n"
     ]
    }
   ],
   "source": [
    "# Example user query\n",
    "# query = \"What is the economic impact of hurricanes in Puerto Rico?\"\n",
    "# query = \"Who is the Governor of Puerto Rico?\"\n",
    "query = \"Who is the Governor of Puerto Rico?\"\n",
    "\n",
    "# Retrieve the top 5 most relevant chunks\n",
    "results = vector_db.similarity_search(query, k=10)\n",
    "\n",
    "# Display the results\n",
    "for idx, result in enumerate(results):\n",
    "    print(f\"\\nDocument {idx + 1}:\")\n",
    "    print(f\"Source: {result.metadata.get('source', 'Unknown')}\")\n",
    "    print(f\"Content: {result.page_content[:300]}...\")  # Display only the first 300 characters"
   ]
  },
  {
   "cell_type": "markdown",
   "id": "c49d0553-447c-425e-acfa-3ae470cb65b3",
   "metadata": {},
   "source": [
    "# OpenAI Approach"
   ]
  },
  {
   "cell_type": "code",
   "execution_count": 193,
   "id": "2304d465-ea9d-43b1-91e3-42adb00f84c2",
   "metadata": {},
   "outputs": [],
   "source": [
    "from dotenv import load_dotenv # load enviroment variables\n",
    "\n",
    "# load OpenAI Key from .env file\n",
    "load_dotenv()\n",
    "openai_api_key = os.getenv('OPENAI_API_KEY')\n",
    "\n",
    "gpt_model = \"gpt-4o-mini\" "
   ]
  },
  {
   "cell_type": "code",
   "execution_count": 239,
   "id": "3c8393b4-f6bf-4034-a44d-85581b457ac6",
   "metadata": {},
   "outputs": [],
   "source": [
    "# Build the prompt\n",
    "prompt = f\"\"\"\n",
    "## INTRODUCTION\n",
    "You are a Chatbot designed to help answer questions about Puerto Rico.\n",
    "The user asked: \"{query}\"\n",
    "\n",
    "## CONTEXT\n",
    "News Documentation:\n",
    "'''\n",
    "{context}\n",
    "'''\n",
    "\n",
    "## RESTRICTIONS\n",
    "Refer to the news by their titles.\n",
    "Be clear, transparent, and factual: only state what is in the context without providing opinions or subjectivity.\n",
    "Answer the question based solely on the context above; if you do not know the answer, be clear with the user that you do not know.\n",
    "Only respond to questions related to the products, avoiding jokes, offensive remarks, and discussions on religion or sexuality.\n",
    "If the user does not provide sufficient context, do not answer and instead ask for more information on what the user wants to know.\n",
    "\n",
    "## TASK\n",
    "First, answer directly to the user, if possible.\n",
    "Second, point the user in the right direction of the documentation.\n",
    "Lastly, answer in Markdown format.\n",
    "\n",
    "## RESPONSE STRUCTURE:\n",
    "'''\n",
    "# [Answer Title]\n",
    "[answer text]\n",
    "\n",
    "Source:\n",
    "• source_section\n",
    "• source_section\n",
    "'''\n",
    "\n",
    "## CONVERSATION:\n",
    "User: {query}\n",
    "Agent:\n",
    "\"\"\""
   ]
  },
  {
   "cell_type": "code",
   "execution_count": 241,
   "id": "b58eb270-4f64-489c-b46e-09cca67457f8",
   "metadata": {},
   "outputs": [
    {
     "name": "stdout",
     "output_type": "stream",
     "text": [
      "Querying ...\n",
      "\n",
      "Generated Response:\n",
      " # Governor of Puerto Rico\n",
      "The context provided does not specify the current Governor of Puerto Rico. Therefore, I cannot provide that information. As of my last update, the Governor of Puerto Rico is Pedro Pierluisi, but please verify with a current source for the most accurate information.\n",
      "\n",
      "Source:\n",
      "• News Documentation\n"
     ]
    }
   ],
   "source": [
    "import openai\n",
    "from langchain.vectorstores import Chroma\n",
    "from langchain.embeddings import HuggingFaceEmbeddings\n",
    "\n",
    "# # Cargar la base de datos persistente\n",
    "# print('Reading ChromaDB ...')\n",
    "# embedding_model = HuggingFaceEmbeddings(model_name=\"sentence-transformers/all-MiniLM-L6-v2\")\n",
    "# vector_db = Chroma(persist_directory=\"./chroma_db\", embedding_function=embedding_model)\n",
    "\n",
    "# # Establecer la API de OpenAI\n",
    "# openai.api_key = openai_api_key\n",
    "\n",
    "def generate_response_with_openai(query, k=10):\n",
    "    # Buscar los chunks más relevantes usando ChromaDB\n",
    "    results = vector_db.similarity_search(query, k=k)\n",
    "    \n",
    "    # Combinar los chunks en un solo contexto\n",
    "    context = \"\\n\".join([result.page_content for result in results])\n",
    "    \n",
    "    # Crear el prompt para OpenAI\n",
    "    # prompt = f\"Context: {context}\\n\\nQuestion: {query}\\n\\nProvide a detailed answer:\"\n",
    "\n",
    "    # Prepare the messages payload\n",
    "    message = [{'role': 'user', 'content': prompt}]\n",
    "    model_params = {'model': gpt_model, 'temperature': 0.4, 'max_tokens': 3000}\n",
    "    \n",
    "    response = openai.chat.completions.create(\n",
    "        messages=message,\n",
    "        model=gpt_model,\n",
    "        temperature=0.4,\n",
    "        max_tokens=3000\n",
    "    )\n",
    "      \n",
    "    return response.choices[0].message.content\n",
    "\n",
    "# Ejemplo de consulta\n",
    "print('Querying ...')\n",
    "response = generate_response_with_openai(query)\n",
    "print(\"\\nGenerated Response:\\n\", response)"
   ]
  },
  {
   "cell_type": "code",
   "execution_count": null,
   "id": "05db7ecf-6fbb-44b2-bfaf-3a9388c41588",
   "metadata": {},
   "outputs": [],
   "source": []
  },
  {
   "cell_type": "code",
   "execution_count": null,
   "id": "e313d14d-6747-4d92-8269-f44e6f63974a",
   "metadata": {},
   "outputs": [],
   "source": [
    "### Possible Options"
   ]
  },
  {
   "cell_type": "code",
   "execution_count": null,
   "id": "97ec856f-1b58-4806-a97a-ad51954cca39",
   "metadata": {},
   "outputs": [],
   "source": [
    "from langchain_openai.embeddings import OpenAIEmbeddings\n",
    "\n",
    "# Create the embeddings function using OpenAI's model throught the API\n",
    "openai_embeddings = OpenAIEmbeddings(model=\"text-embedding-ada-002\", openai_api_key=openai_api_key)\n",
    "print(\"Initialized OpenAI embeddings.\")"
   ]
  },
  {
   "cell_type": "code",
   "execution_count": null,
   "id": "cde503c7-5fcf-40a5-9eda-a05cf3d39014",
   "metadata": {},
   "outputs": [],
   "source": [
    "# Create ChromaDB instance - OpenAI\n",
    "db_openai = Chroma.from_documents(docs_recursive_split, \n",
    "                                  openai_embeddings, \n",
    "                                  persist_directory=\"./chroma_db_openai\")\n",
    "\n",
    "print(\"ChromaDB with OpenAI embeddings created.\")"
   ]
  },
  {
   "cell_type": "markdown",
   "id": "1709bbc3-8e60-4bef-bfa7-19860037f051",
   "metadata": {},
   "source": [
    "## Load Documents From Original Chunks & Test with OpenAI Content Query"
   ]
  },
  {
   "cell_type": "code",
   "execution_count": 78,
   "id": "9a7e4661-89ee-444e-955b-9505b980fe40",
   "metadata": {},
   "outputs": [],
   "source": [
    "%%capture\n",
    "# !pip install openai"
   ]
  },
  {
   "cell_type": "code",
   "execution_count": 173,
   "id": "d2328869-d7d2-4924-9015-0814c4defe05",
   "metadata": {},
   "outputs": [],
   "source": [
    "def search_documents(query, top_k=10):\n",
    "    # Retrieve the most relevant documents for the query\n",
    "    results = vector_db.similarity_search(query, k=top_k)\n",
    "    for idx, result in enumerate(results):\n",
    "        print(f\"\\nDocument {idx + 1}:\")\n",
    "        print(result.page_content[:500])  # Show snippet of the content"
   ]
  },
  {
   "cell_type": "code",
   "execution_count": 175,
   "id": "7a61c9fd-509c-4289-8adb-100af492de23",
   "metadata": {},
   "outputs": [
    {
     "name": "stdout",
     "output_type": "stream",
     "text": [
      "\n",
      "Document 1:\n",
      ". To the Hon. Senate of Puerto Rico, San Juan, Puerto Rico.\n",
      "Gentlemen: It is not a difficult task to determine the causes for which the economic situation of some of the municipalities of the island is pressing and embarrassing, for it is common knowledge that if their income has diminished considerably, it is due to the inevitable effects of the cyclone which struck the island on September 13, 1928\n",
      "\n",
      "Document 2:\n",
      ". \"The size of the cane crop and the amount of cane that can be sold at a remunerative price is of great significance to our economy. In this sector of the island economy there is uncertainty caused by a probable oobtant. Therefore, the ability of the United States to absorb that surplus will influence the degree of economic well-being that may prevail in Puerto Rico. Mixed Perspective \"Another factor: federal outlays, expenditures and aid\n",
      "\n",
      "Document 3:\n",
      "to avert the economic crisis of the most alarming proportions that this suffering people of Puerto Rico has had to face in its history as a people\n",
      "\n",
      "Document 4:\n",
      ". The map behind me clearly shows the part of Puerto Rico that has suffered as never before during the disaster. One glance at this map will suffice to prove that a large part of the agricultural region of the island, including the entire coffee and tobacco region and part of the sour crop and sugar cane growing regions, has been hit by the vortex of the hurricane\n",
      "\n",
      "Document 5:\n",
      ". I believe it is a serious study of the economic realities of Puerto Rico. I will not attach much importance to the political conclusions of the report, because that is a policy task to be decided between the Puerto Rican leadership and the leadership of the U.S. Congress and the U.S. Administration. A policy maker can find ways to adapt to whatever economic reality he or she has to deal with in order to achieve his or her goals\n",
      "\n",
      "Document 6:\n",
      ". The total ruin of this source of income would be inevitable, many farmers would totally lose their land, a serious paralysis of business would ensue in many important municipalities of the island, hunger would be a sure prey for the one hundred Puerto Rican families that are sustained by this crop, and it is unquestionable that the economic situation of the island would be worse than that of the rest of the island\n",
      "\n",
      "Document 7:\n",
      "up factories in Puerto Rico. The prospects for new industries, according to the Government's agenda, are flattering. In commenting on the movement in this respect during the past month of July, the Administration states: \"The total number of visitors to our offices amounted to 41, of whom 13 were Puerto Ricans and 38 Americans, 'Three of the companies lately accepted have begun the installation of machinery and are almost ready to commence operations. \"Frequent inquiries for general information \n",
      "\n",
      "Document 8:\n",
      ". In Puerto Rico we must put an end to this economic and administrative disorder, which will soon lead the country to the most disastrous economic ruin\n",
      "\n",
      "Document 9:\n",
      ". That is the general impression, and history, to some extent, confirms that assumption. There are, however, some known and some more unknown factors that may affect the trade situation in Ja lela, and it is not necessarily true that Puerto Rico's economy is keeping pace with that of the mainland. For example, the Island depends largely on the amount of sugar it can sell; a reduction in the crop, due to a small sugar quota, can make a tremendous difference in the outlook for the year\n",
      "\n",
      "Document 10:\n",
      "There are, however, two or three factors of much greater importance to the island economy than to the national one. \"The size of the cane crop and the amount of cane that can be sold at a remunerative price is of great significance to our economy. In this sector of the island economy there is uncertainty caused by a probable oobtant. Therefore, the ability of the United States to absorb that surplus will influence the degree of economic well-being that may prevail in Puerto Rico. Mixed Perspecti\n"
     ]
    }
   ],
   "source": [
    "#  query \n",
    "search_documents(query)"
   ]
  },
  {
   "cell_type": "code",
   "execution_count": null,
   "id": "ce813b17-1afd-46a8-9bc1-fe6f316fa923",
   "metadata": {},
   "outputs": [],
   "source": []
  }
 ],
 "metadata": {
  "kernelspec": {
   "display_name": "Python (base)",
   "language": "python",
   "name": "base"
  },
  "language_info": {
   "codemirror_mode": {
    "name": "ipython",
    "version": 3
   },
   "file_extension": ".py",
   "mimetype": "text/x-python",
   "name": "python",
   "nbconvert_exporter": "python",
   "pygments_lexer": "ipython3",
   "version": "3.12.2"
  }
 },
 "nbformat": 4,
 "nbformat_minor": 5
}
