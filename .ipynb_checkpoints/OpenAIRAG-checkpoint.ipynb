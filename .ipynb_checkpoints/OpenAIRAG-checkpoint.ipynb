{
 "cells": [
  {
   "cell_type": "code",
   "execution_count": 5,
   "id": "23005931-8cb1-447d-8fc2-e266c0d3188d",
   "metadata": {},
   "outputs": [],
   "source": [
    "%%capture\n",
    "\n",
    "## Install dependencies\n",
    "!pip install langchain chromadb sentence-transformers"
   ]
  },
  {
   "cell_type": "code",
   "execution_count": 6,
   "id": "533dc602-fe75-4118-8604-10463c2030eb",
   "metadata": {},
   "outputs": [],
   "source": [
    "# Import libraries\n",
    "import os\n",
    "\n",
    "from langchain.embeddings import OpenAIEmbeddings, SentenceTransformerEmbeddings \n",
    "from langchain.vectorstores import Chroma\n",
    "from langchain.document_loaders import TextLoader"
   ]
  },
  {
   "cell_type": "markdown",
   "id": "3bbb7c23-30e4-4699-86f7-d9910409a423",
   "metadata": {},
   "source": [
    "# Exploratory Data Analysis"
   ]
  },
  {
   "cell_type": "code",
   "execution_count": 8,
   "id": "6c033f64-5227-40ba-bddf-fbabb00653b3",
   "metadata": {},
   "outputs": [],
   "source": [
    "# Directory containing chunked files\n",
    "chunked_dir = \"./data/elmundo_chunked_en_page1_15years/\""
   ]
  },
  {
   "cell_type": "code",
   "execution_count": 9,
   "id": "c1dfe27c-acfd-4893-84de-5047228a7595",
   "metadata": {},
   "outputs": [],
   "source": [
    "# Load data set\n",
    "import pandas as pd\n",
    "import matplotlib.pyplot as plt\n",
    "\n",
    "documents = []\n",
    "\n",
    "for file_name in os.listdir(chunked_dir):\n",
    "    file_path = os.path.join(chunked_dir, file_name)\n",
    "    with open(file_path, 'r', encoding='utf-8') as file:\n",
    "        content = file.read().strip()\n",
    "        documents.append({'file_name': file_name, 'content': content})\n",
    "\n",
    "\n",
    "df = pd.DataFrame(documents)"
   ]
  },
  {
   "cell_type": "code",
   "execution_count": 10,
   "id": "c7913ff9-d9be-4e68-b6f9-49690e4d0d2d",
   "metadata": {},
   "outputs": [
    {
     "data": {
      "text/html": [
       "<div>\n",
       "<style scoped>\n",
       "    .dataframe tbody tr th:only-of-type {\n",
       "        vertical-align: middle;\n",
       "    }\n",
       "\n",
       "    .dataframe tbody tr th {\n",
       "        vertical-align: top;\n",
       "    }\n",
       "\n",
       "    .dataframe thead th {\n",
       "        text-align: right;\n",
       "    }\n",
       "</style>\n",
       "<table border=\"1\" class=\"dataframe\">\n",
       "  <thead>\n",
       "    <tr style=\"text-align: right;\">\n",
       "      <th></th>\n",
       "      <th>file_name</th>\n",
       "      <th>content</th>\n",
       "    </tr>\n",
       "  </thead>\n",
       "  <tbody>\n",
       "    <tr>\n",
       "      <th>719</th>\n",
       "      <td>19490122_1.txt</td>\n",
       "      <td>THE MIANDO\\nWEATHER FORECASTS FOR THE ISLAND, ...</td>\n",
       "    </tr>\n",
       "    <tr>\n",
       "      <th>300</th>\n",
       "      <td>19251121_1.txt</td>\n",
       "      <td>ELMIJNDO\\n1 n PA6S. 3 CIS Oíd\": \"Puerto Km ; A...</td>\n",
       "    </tr>\n",
       "    <tr>\n",
       "      <th>55</th>\n",
       "      <td>19210226_1.txt</td>\n",
       "      <td>®OW®NDO\\n8 flats 3 ctve. vWnWuvi One year,&gt;7.5...</td>\n",
       "    </tr>\n",
       "    <tr>\n",
       "      <th>340</th>\n",
       "      <td>19260904_1.txt</td>\n",
       "      <td>THE WORLD\\n' 1 O 3C7VS. I| | | | I Office: \"Pu...</td>\n",
       "    </tr>\n",
       "    <tr>\n",
       "      <th>570</th>\n",
       "      <td>19460302_1.txt</td>\n",
       "      <td>THE WORLD\\n38 Pages 5 Ctvs. 2 Sections\\n38 Pag...</td>\n",
       "    </tr>\n",
       "    <tr>\n",
       "      <th>281</th>\n",
       "      <td>19250711_1.txt</td>\n",
       "      <td>EL.HÜNÜO\\n1 A PASS. 3 CTS. I / II r-i e-f t-i ...</td>\n",
       "    </tr>\n",
       "    <tr>\n",
       "      <th>26</th>\n",
       "      <td>19200717_1.txt</td>\n",
       "      <td>THE WORLD\\nOMmh Sobredar Brau. ST I TaL S3&gt; P....</td>\n",
       "    </tr>\n",
       "    <tr>\n",
       "      <th>603</th>\n",
       "      <td>19461019_1.txt</td>\n",
       "      <td>THE\\nWEATHER FORECAST FOR TODAY-Cloudy in the ...</td>\n",
       "    </tr>\n",
       "    <tr>\n",
       "      <th>502</th>\n",
       "      <td>19291109_1.txt</td>\n",
       "      <td>THE M&amp;NDO\\n18 Pages Ctvs.\\n18\\nDAILY MORNING\\n...</td>\n",
       "    </tr>\n",
       "    <tr>\n",
       "      <th>754</th>\n",
       "      <td>19490924_1.txt</td>\n",
       "      <td>THE MIANDO\\nWEATHER FORECASTS FOR THE ISLAND, ...</td>\n",
       "    </tr>\n",
       "  </tbody>\n",
       "</table>\n",
       "</div>"
      ],
      "text/plain": [
       "          file_name                                            content\n",
       "719  19490122_1.txt  THE MIANDO\\nWEATHER FORECASTS FOR THE ISLAND, ...\n",
       "300  19251121_1.txt  ELMIJNDO\\n1 n PA6S. 3 CIS Oíd\": \"Puerto Km ; A...\n",
       "55   19210226_1.txt  ®OW®NDO\\n8 flats 3 ctve. vWnWuvi One year,>7.5...\n",
       "340  19260904_1.txt  THE WORLD\\n' 1 O 3C7VS. I| | | | I Office: \"Pu...\n",
       "570  19460302_1.txt  THE WORLD\\n38 Pages 5 Ctvs. 2 Sections\\n38 Pag...\n",
       "281  19250711_1.txt  EL.HÜNÜO\\n1 A PASS. 3 CTS. I / II r-i e-f t-i ...\n",
       "26   19200717_1.txt  THE WORLD\\nOMmh Sobredar Brau. ST I TaL S3> P....\n",
       "603  19461019_1.txt  THE\\nWEATHER FORECAST FOR TODAY-Cloudy in the ...\n",
       "502  19291109_1.txt  THE M&NDO\\n18 Pages Ctvs.\\n18\\nDAILY MORNING\\n...\n",
       "754  19490924_1.txt  THE MIANDO\\nWEATHER FORECASTS FOR THE ISLAND, ..."
      ]
     },
     "execution_count": 10,
     "metadata": {},
     "output_type": "execute_result"
    }
   ],
   "source": [
    "# Preview df\n",
    "df.sample(10)"
   ]
  },
  {
   "cell_type": "markdown",
   "id": "55b2ff79-17b7-45fd-a61a-4c18a9d9e764",
   "metadata": {},
   "source": [
    "# Data Processing"
   ]
  },
  {
   "cell_type": "code",
   "execution_count": 12,
   "id": "f11c963d-0405-4445-a6f2-81cc00b68d49",
   "metadata": {},
   "outputs": [
    {
     "name": "stdout",
     "output_type": "stream",
     "text": [
      "\n",
      "Basic Dataset Information:\n",
      "\n",
      "<class 'pandas.core.frame.DataFrame'>\n",
      "RangeIndex: 821 entries, 0 to 820\n",
      "Data columns (total 2 columns):\n",
      " #   Column     Non-Null Count  Dtype \n",
      "---  ------     --------------  ----- \n",
      " 0   file_name  821 non-null    object\n",
      " 1   content    821 non-null    object\n",
      "dtypes: object(2)\n",
      "memory usage: 13.0+ KB\n",
      "None\n"
     ]
    }
   ],
   "source": [
    "# Basic overview of the dataset\n",
    "print(\"\\nBasic Dataset Information:\\n\")\n",
    "print(df.info())"
   ]
  },
  {
   "cell_type": "code",
   "execution_count": 13,
   "id": "549bbedd-63cc-46df-8ad0-5e487f186766",
   "metadata": {},
   "outputs": [
    {
     "name": "stdout",
     "output_type": "stream",
     "text": [
      "\n",
      "Number of files with missing content: 0\n"
     ]
    }
   ],
   "source": [
    "# Check for missing or empty content\n",
    "missing_content = df['content'].isnull().sum()\n",
    "print(f\"\\nNumber of files with missing content: {missing_content}\")"
   ]
  },
  {
   "cell_type": "code",
   "execution_count": 14,
   "id": "6bc0343a-8b70-4592-a40c-b53493bf1d2a",
   "metadata": {},
   "outputs": [
    {
     "name": "stdout",
     "output_type": "stream",
     "text": [
      "\n",
      "Number of duplicate documents: 0\n"
     ]
    }
   ],
   "source": [
    "# Checking for duplicate content\n",
    "duplicate_count = df.duplicated(subset=['content']).sum()\n",
    "print(f\"\\nNumber of duplicate documents: {duplicate_count}\")"
   ]
  },
  {
   "cell_type": "code",
   "execution_count": 15,
   "id": "74b4f50b-504d-4f43-92ae-464a59c6a4ca",
   "metadata": {},
   "outputs": [
    {
     "name": "stdout",
     "output_type": "stream",
     "text": [
      "\n",
      "Document Length Statistics:\n",
      "\n",
      "count      821.000000\n",
      "mean     19766.438490\n",
      "std       5873.254742\n",
      "min       6340.000000\n",
      "25%      15527.000000\n",
      "50%      18631.000000\n",
      "75%      24750.000000\n",
      "max      33801.000000\n",
      "Name: content_length, dtype: float64\n"
     ]
    }
   ],
   "source": [
    "# Document length statistics\n",
    "df['content_length'] = df['content'].apply(len) # Create a new column with the content length\n",
    "length_stats = df['content_length'].describe()\n",
    "\n",
    "print(\"\\nDocument Length Statistics:\\n\")\n",
    "print(length_stats)"
   ]
  },
  {
   "cell_type": "code",
   "execution_count": 16,
   "id": "1df22947-97e5-4901-8e3f-aedbe3c04920",
   "metadata": {},
   "outputs": [
    {
     "data": {
      "image/png": "[encoded data removed]",
      "text/plain": [
       "<Figure size 800x600 with 1 Axes>"
      ]
     },
     "metadata": {},
     "output_type": "display_data"
    }
   ],
   "source": [
    "# Distribution plot of document lengths\n",
    "plt.figure(figsize=(8, 6))\n",
    "plt.hist(df['content_length'], bins=50, color='skyblue', edgecolor='black')\n",
    "\n",
    "plt.title('Distribution of Document Lengths')\n",
    "plt.xlabel('Document Length (characters)')\n",
    "plt.ylabel('Frequency')\n",
    "plt.show()"
   ]
  },
  {
   "cell_type": "code",
   "execution_count": 17,
   "id": "5466b14b-4f76-44b9-aa1d-a2521cb7d320",
   "metadata": {},
   "outputs": [],
   "source": [
    "from langchain.text_splitter import RecursiveCharacterTextSplitter"
   ]
  },
  {
   "cell_type": "code",
   "execution_count": 18,
   "id": "c3e5241a-64b5-4629-ac61-da7b3eb4ebcf",
   "metadata": {},
   "outputs": [
    {
     "name": "stdout",
     "output_type": "stream",
     "text": [
      "Splitting chunks ...\n",
      "Splitting finished.\n"
     ]
    }
   ],
   "source": [
    "# Initialize the RecursiveCharacterTextSplitter\n",
    "recursive_splitter = RecursiveCharacterTextSplitter(\n",
    "    chunk_size=1000,\n",
    "    chunk_overlap=200, # recomended 10% to 20% from chunk size\n",
    "    separators=[\"\\n\\n\", \". \", \" \"],  # Tries to split by paragraphs first, then sentences, then words\n",
    ")\n",
    "\n",
    "print('Splitting chunks ...')\n",
    "\n",
    "# Split the content efficiently\n",
    "documents = []\n",
    "\n",
    "# Split the content efficiently and store metadata - RecursiveCharacterTextSplitter\n",
    "for index, row in df.iterrows():\n",
    "    file_name = row['file_name']\n",
    "    content = row['content']\n",
    "    chunks = recursive_splitter.split_text(content)\n",
    "    for chunk in chunks:\n",
    "        documents.append({\"content\": chunk, \"metadata\": {\"source\": file_name}})\n",
    "\n",
    "print('Splitting finished.')"
   ]
  },
  {
   "cell_type": "markdown",
   "id": "6a41ccf8-6704-42a4-83aa-f3491255de79",
   "metadata": {},
   "source": [
    "# Open AI Approach"
   ]
  },
  {
   "cell_type": "code",
   "execution_count": 20,
   "id": "bfaab9e0-b94b-4d88-b099-77a72b488d6a",
   "metadata": {},
   "outputs": [],
   "source": [
    "# Import OpenAI API key from env file\n",
    "from dotenv import load_dotenv\n",
    "\n",
    "openai_api_key = load_dotenv(dotenv_path='openaikey.env')\n",
    "\n",
    "# Get the API key from the environment variable\n",
    "openai_api_key = os.getenv(\"OPENAI_API_KEY\")"
   ]
  },
  {
   "cell_type": "code",
   "execution_count": 21,
   "id": "053b2b97-5b66-48e0-a330-d9e4c3b0a0ff",
   "metadata": {},
   "outputs": [],
   "source": [
    "# Intall dependencies\n",
    "#!pip install langchain-openai"
   ]
  },
  {
   "cell_type": "code",
   "execution_count": 22,
   "id": "5e2794f8-deb4-47a1-a467-289bb827bcbd",
   "metadata": {},
   "outputs": [],
   "source": [
    "# Import modules\n",
    "from langchain_openai import OpenAIEmbeddings"
   ]
  },
  {
   "cell_type": "code",
   "execution_count": 23,
   "id": "e15b9dc1-aec5-474d-841d-0f92997ad966",
   "metadata": {},
   "outputs": [
    {
     "name": "stdout",
     "output_type": "stream",
     "text": [
      "ChromaDb Storing process ...\n",
      "Inserting batch 1 of size 20965...\n",
      "Chunks have been successfully split, vectorized, and stored in the vector database.\n"
     ]
    }
   ],
   "source": [
    "# Initialize embedding model\n",
    "open_ai_embedding_model = OpenAIEmbeddings(model='text-embedding-ada-002', api_key=openai_api_key)\n",
    "\n",
    "print('ChromaDb Storing process ...')\n",
    "\n",
    "# Convert to a list of texts and metadata for vectorization\n",
    "texts = [doc[\"content\"] for doc in documents]\n",
    "metadatas = [doc[\"metadata\"] for doc in documents]\n",
    "\n",
    "\n",
    "# Batch insertion function to handle large datasets\n",
    "def batch_insert_texts(texts, metadatas, open_ai_embedding_model, persist_directory, batch_size=40000):\n",
    "    \"\"\"Insert texts and associated metadata in batches to avoid exceeding the maximum batch size.\"\"\"\n",
    "    for i in range(0, len(texts), batch_size):\n",
    "        batch_texts = texts[i:i + batch_size]\n",
    "        batch_metadatas = metadatas[i:i + batch_size]\n",
    "        print(f\"Inserting batch {i // batch_size + 1} of size {len(batch_texts)}...\")\n",
    "        Chroma.from_texts(\n",
    "            batch_texts,\n",
    "            embedding=open_ai_embedding_model,\n",
    "            metadatas=batch_metadatas,\n",
    "            persist_directory=persist_directory\n",
    "        )\n",
    "\n",
    "\n",
    "# Insert texts and metadata in batches\n",
    "batch_insert_texts(\n",
    "    texts=texts,\n",
    "    metadatas=metadatas,\n",
    "    open_ai_embedding_model=open_ai_embedding_model,\n",
    "    persist_directory=\"./chroma_db\",\n",
    "    batch_size=40000  # Adjust batch size if necessary\n",
    ")\n",
    "\n",
    "print(\"Chunks have been successfully split, vectorized, and stored in the vector database.\")"
   ]
  },
  {
   "cell_type": "code",
   "execution_count": 24,
   "id": "8c23dfb9-a604-4631-9bf6-f95d0f9e248f",
   "metadata": {},
   "outputs": [
    {
     "name": "stdout",
     "output_type": "stream",
     "text": [
      "Text Embedding ADA 002 Embedding Vector: [-9.969390521291643e-05, -0.02118777669966221, 0.011862811632454395, -0.02057608962059021, -0.022072769701480865, -0.01704913191497326, 0.00205956120043993, 0.020940497517585754, -0.002923405496403575, -0.039121899753808975, 0.006897740066051483, 0.020901454612612724, 0.01643744483590126, 0.0009126491495408118, -0.008459492586553097, 0.0015715134795755148, 0.012324830517172813, -0.010496278293430805, 0.0014202187303453684, -0.01594289019703865, -0.03412429243326187, 0.031755633652210236, 0.004568126052618027, -0.016580605879426003, 0.02582097426056862, 0.0314432829618454, 0.019495876505970955, -0.003575762500986457, -0.006660223938524723, -0.014146874658763409]\n"
     ]
    }
   ],
   "source": [
    "# Test query output as vectors \n",
    "user_query = \"What industry contributes the most to the Puerto Rican economy?\"\n",
    "\n",
    "text_embedding_ada_vector = open_ai_embedding_model.embed_query(user_query)\n",
    "\n",
    "print(f\"Text Embedding ADA 002 Embedding Vector: {text_embedding_ada_vector[0:30]}\")"
   ]
  },
  {
   "cell_type": "code",
   "execution_count": 42,
   "id": "0a93f0f2-7d0b-40af-b586-b15d2cf3c036",
   "metadata": {},
   "outputs": [
    {
     "name": "stderr",
     "output_type": "stream",
     "text": [
      "C:\\Users\\Jarian\\AppData\\Local\\Temp\\ipykernel_31264\\1807372177.py:2: LangChainDeprecationWarning: The class `Chroma` was deprecated in LangChain 0.2.9 and will be removed in 1.0. An updated version of the class exists in the :class:`~langchain-chroma package and should be used instead. To use it run `pip install -U :class:`~langchain-chroma` and import as `from :class:`~langchain_chroma import Chroma``.\n",
      "  vector_db = Chroma(persist_directory=\"./chroma_db\", embedding_function=open_ai_embedding_model)\n"
     ]
    }
   ],
   "source": [
    "# Load the persisted ChromaDB\n",
    "vector_db = Chroma(persist_directory=\"./chroma_db\", embedding_function=open_ai_embedding_model)"
   ]
  },
  {
   "cell_type": "code",
   "execution_count": 49,
   "id": "47551f5f-4548-42ea-ac8f-834cdf37b703",
   "metadata": {},
   "outputs": [
    {
     "name": "stdout",
     "output_type": "stream",
     "text": [
      "\n",
      "Document 1:\n",
      "Source: 19210917_1.txt\n",
      "Content: . As far as housing is concerned, it is well demonstrated that the Puerto Rican people are in favor of having a comfortable, clean home with all the modern conveniences. 1 As far as clothing is concerned, there is no doubt that we like to dress in the latest fashions, just as in any other civilized ...\n",
      "\n",
      "Document 2:\n",
      "Source: 19471025_1.txt\n",
      "Content: . The sudden drop in exports found the industry operating at an accelerated volume, and with considerable reserves in the possession of its continental distributors. Although there is hope that a favorable change in the present situation may arise, there is little optimism among Puerto Rican industr...\n",
      "\n",
      "Document 3:\n",
      "Source: 19500121_1.txt\n",
      "Content: . 1 There are, however, two or three factors of much greater importance to the island economy than to the national one. \"The size of the cane crop and the amount of cane that can be sold at a remunerative price is of great significance to our economy. In this sector of the island economy there is un...\n",
      "\n",
      "Document 4:\n",
      "Source: 19470426_1.txt\n",
      "Content: . market if the problem facing our industry is not resolved quickly. On the other hand, it was reported to EL MUNDO that the Island runs the risk of losing its ascendancy in the U.S. market, with more serious damage* to the industry, \"I trafficking with advantage* the ions of Cuba and the Virgin Isl...\n",
      "\n",
      "Document 5:\n",
      "Source: 19220415_1.txt\n",
      "Content: . A people without its industry is like an unattractive woman or like a wasteland in complete solitude and utter neglect. Puerto Rico industries and it is an imperious duty to defend and maintain them, if it wishes to have a personality of its own, a life of its own and a wealth of its own that will...\n",
      "\n",
      "Document 6:\n",
      "Source: 19481211_1.txt\n",
      "Content: . An eight-column headline,\" at the top of the page, reads as follows: \"Puerto Rico, at 59 years\" under the United States flag,\" on the way to a new progress\". On this first page of the supplement, seven articles\" are published under the following headings: 1- 117 industries apply for tax exemption ...\n",
      "\n",
      "Document 7:\n",
      "Source: 19480717_1.txt\n",
      "Content: . Veterans must bring the certificate of eligibility authorized by the Veterans Administration and the enrollment permit from the School's Guidance Department. Enrollment will take place at the Administration Building of the Industrial School, located on highway number 32, from Rio Piedra\" to Barrio...\n",
      "\n",
      "Document 8:\n",
      "Source: 19241122_1.txt\n",
      "Content: \"The Economic Development of Puerto Rico\" which appeared in one of the last issues: \"The Island of Puerto Rico, the most beautiful flower of the Spanish Colonial Empire in the new world, has not ceased to be part of Latin America in spite of the change in its political regime, and it is fair to reco...\n",
      "\n",
      "Document 9:\n",
      "Source: 19470726_1.txt\n",
      "Content: . The payments for the federal excise tax, the largest source of the Island Government's income, were 10 percent of the previous year's amount, and local consumption in that year was 82 percent of what it was in the previous year. II Executive Secretary of the Institute of Rum of Puerto Rico, in his...\n",
      "\n",
      "Document 10:\n",
      "Source: 19500325_1.txt\n",
      "Content: . \"The problem is akin to that caused by the primitive waves of European immigrants. I require immediate attention. Many Puerto Ricans are employed in the local garment industry, in hotels, restaurants, garment factories, the maritime industry and various other branches of labor. Some of the worst e...\n"
     ]
    }
   ],
   "source": [
    "# Example user query\n",
    "query = \"What industry contributes the most to the Puerto Rican economy?\"\n",
    "\n",
    "# Retrieve the top 5 most relevant chunks\n",
    "results = vector_db.similarity_search(query, k=10)\n",
    "\n",
    "# Extract the content of the retrieved documents\n",
    "context = \"\\n\\n\".join([result.page_content for result in results])\n",
    "\n",
    "# Check if context was retrieved\n",
    "if not context:\n",
    "    context = \"No relevant information found.\"\n",
    "    \n",
    "# Display the results\n",
    "for idx, result in enumerate(results):\n",
    "    print(f\"\\nDocument {idx + 1}:\")\n",
    "    print(f\"Source: {result.metadata.get('source', 'Unknown')}\")\n",
    "    print(f\"Content: {result.page_content[:300]}...\")  # Display only the first 300 characters"
   ]
  },
  {
   "cell_type": "markdown",
   "id": "4cb8d11b-c389-4978-a843-b5e0f3986006",
   "metadata": {},
   "source": [
    "# Querying the data"
   ]
  },
  {
   "cell_type": "code",
   "execution_count": 62,
   "id": "80678a41-36eb-41ef-ba2b-5413321c4085",
   "metadata": {},
   "outputs": [],
   "source": [
    "# Load GPT model\n",
    "gpt_model = \"gpt-4o-mini\" \n",
    "\n",
    "# Build the prompt\n",
    "def build_prompt(query, context):\n",
    "    return f\"\"\"\n",
    "    ## INTRODUCTION\n",
    "    You are a Chatbot designed to help answer questions about Puerto Rico.\n",
    "    The user asked: \"{query}\"\n",
    "    \n",
    "    ## CONTEXT\n",
    "    News Documentation:\n",
    "    '''\n",
    "    {context}\n",
    "    '''\n",
    "    \n",
    "    ## RESTRICTIONS\n",
    "    Refer to the news by their titles.\n",
    "    Be clear, transparent, and factual: only state what is in the context without providing opinions or subjectivity.\n",
    "    Answer the question based solely on the context above; if you do not know the answer, be clear with the user that you do not know.\n",
    "    Only respond to questions related to the products, avoiding jokes, offensive remarks, and discussions on religion or sexuality.\n",
    "    If the user does not provide sufficient context, do not answer and instead ask for more information on what the user wants to know.\n",
    "    \n",
    "    ## TASK\n",
    "    First, answer directly to the user, if possible.\n",
    "    Second, point the user in the right direction of the documentation.\n",
    "    Lastly, answer in Markdown format.\n",
    "    \n",
    "    ## RESPONSE STRUCTURE:\n",
    "    # About [Answer Title]\n",
    "    [answer text]\n",
    "    \n",
    "    ### Source:\n",
    "    • source_section <br>\n",
    "    • source_section <br>\n",
    "        \n",
    "    ## CONVERSATION:\n",
    "    User: {query}\n",
    "    Agent:\n",
    "    \"\"\""
   ]
  },
  {
   "cell_type": "code",
   "execution_count": 64,
   "id": "c26ff93e-4c79-4b05-a7cc-029842838d85",
   "metadata": {},
   "outputs": [
    {
     "name": "stdout",
     "output_type": "stream",
     "text": [
      "Welcome to Puerto Rico News\n",
      "Enter a question or type \"exit\" to quit. \n"
     ]
    },
    {
     "name": "stdin",
     "output_type": "stream",
     "text": [
      "\n",
      "You:  Who is the govenor of Puerto Rico?\n"
     ]
    },
    {
     "name": "stdout",
     "output_type": "stream",
     "text": [
      "AI: \n"
     ]
    },
    {
     "data": {
      "text/markdown": [
       "<h1>About the Governor of Puerto Rico</h1>\n",
       "<p>The current Governor of Puerto Rico is Mr. Jesús T. Piñero.</p>\n",
       "<h3>Source:</h3>\n",
       "<p>• The Governor of Puerto Rico is appointed by the President of the United States, with the consent of the Senate. <br>\n",
       "• The Office of House Representative Antonio Pacheco Padró has sent the Honorable Governor of Puerto Rico, Mr. Jesús T. Piñero, through the Speaker of the House.</p>"
      ],
      "text/plain": [
       "<IPython.core.display.Markdown object>"
      ]
     },
     "metadata": {},
     "output_type": "display_data"
    },
    {
     "name": "stdin",
     "output_type": "stream",
     "text": [
      "\n",
      "You:  What are the main economic industries in Puerto Rico?\n"
     ]
    },
    {
     "name": "stdout",
     "output_type": "stream",
     "text": [
      "AI: \n"
     ]
    },
    {
     "data": {
      "text/markdown": [
       "<h1>About Main Economic Industries in Puerto Rico</h1>\n",
       "<p>The main economic industries in Puerto Rico include agriculture, manufacturing, and commerce. Specific sectors mentioned are the canning industry, coffee processing, foundries, and the production of sugar, rum, and tobacco. Additionally, the island has seen significant investments in food, motor vehicles, and construction materials. However, there are concerns about the agricultural sector's ability to support the population without the establishment of other industries.</p>\n",
       "<h3>Source:</h3>\n",
       "<p>• \"Island's biggest investments were in food and vehicles\" <br>\n",
       "• \"The main problem of all the industries we have visited is that they have old equipment\" <br>\n",
       "• \"The agricultural interests of the Island will not be able to support the population of Puerto Rico\" <br></p>"
      ],
      "text/plain": [
       "<IPython.core.display.Markdown object>"
      ]
     },
     "metadata": {},
     "output_type": "display_data"
    },
    {
     "name": "stdin",
     "output_type": "stream",
     "text": [
      "\n",
      "You:  Where in the documentation does it say that Puerto Rico has a strong pharmaceutical industry?\n"
     ]
    },
    {
     "name": "stdout",
     "output_type": "stream",
     "text": [
      "AI: \n"
     ]
    },
    {
     "data": {
      "text/markdown": [
       "<h1>About Puerto Rico's Pharmaceutical Industry</h1>\n",
       "<p>The documentation mentions that Puerto Rico has a strong pharmaceutical industry by highlighting the existence of companies like The Porto Rico Drug Company, which emphasizes the high quality of chemicals used in their products and their competitive pricing. Additionally, it notes the island's capability to prepare drugs and pharmaceutical preparations with raw materials sourced locally and abroad.</p>\n",
       "<h3>Source:</h3>\n",
       "<p>• \"THE PORTO RICO DRUG COMPANY\" <br>\n",
       "• \"The island to prepare with the raw materials that exist in Puerto Rico, drugs and pharmaceutical preparations that are generated both here and abroad\" <br></p>"
      ],
      "text/plain": [
       "<IPython.core.display.Markdown object>"
      ]
     },
     "metadata": {},
     "output_type": "display_data"
    },
    {
     "name": "stdin",
     "output_type": "stream",
     "text": [
      "\n",
      "You:  Does Puerto Rico export more coffee or electronics?\n"
     ]
    },
    {
     "name": "stdout",
     "output_type": "stream",
     "text": [
      "AI: \n"
     ]
    },
    {
     "data": {
      "text/markdown": [
       "<h1>About Puerto Rico's Exports</h1>\n",
       "<p>The context provided does not contain specific data comparing the exports of coffee and electronics from Puerto Rico. Therefore, I cannot definitively answer whether Puerto Rico exports more coffee or electronics.</p>\n",
       "<h3>Source:</h3>\n",
       "<p>• News Documentation on coffee exports <br>\n",
       "• General export statistics not specified in the context</p>"
      ],
      "text/plain": [
       "<IPython.core.display.Markdown object>"
      ]
     },
     "metadata": {},
     "output_type": "display_data"
    },
    {
     "name": "stdin",
     "output_type": "stream",
     "text": [
      "\n",
      "You:  Is Puerto Rico better off as a U.S. territory or as an independent country?\n"
     ]
    },
    {
     "name": "stdout",
     "output_type": "stream",
     "text": [
      "AI: \n"
     ]
    },
    {
     "data": {
      "text/markdown": [
       "<h1>About Puerto Rico's Political Status</h1>\n",
       "<p>The question of whether Puerto Rico is better off as a U.S. territory or as an independent country is complex and involves various perspectives. According to the context provided, many Puerto Ricans believe that their association with the United States has been beneficial, with 90 percent of the population supporting this view. However, there is also a strong sentiment against living under a colonial system, with calls for self-governance and independence being prominent.</p>\n",
       "<p>The former governor, Jesús T. Piñero, indicated that a decision regarding independence might not be feasible for another ten to fifteen years, suggesting that industrialization is a prerequisite for such a choice. Additionally, the context outlines that Puerto Rico's economic situation is challenging, and its future political status remains uncertain, with discussions ongoing about statehood, independence, or a modified territorial status.</p>\n",
       "<h3>Source:</h3>\n",
       "<p>• The internal situation of Puerto Rico and the views of its leaders <br>\n",
       "• The perspectives on independence and economic realities <br></p>"
      ],
      "text/plain": [
       "<IPython.core.display.Markdown object>"
      ]
     },
     "metadata": {},
     "output_type": "display_data"
    },
    {
     "name": "stdin",
     "output_type": "stream",
     "text": [
      "\n",
      "You:  List three key takeaways from Puerto Rico's latest financial report.\n"
     ]
    },
    {
     "name": "stdout",
     "output_type": "stream",
     "text": [
      "AI: \n"
     ]
    },
    {
     "data": {
      "text/markdown": [
       "<h1>About Key Takeaways from Puerto Rico's Latest Financial Report</h1>\n",
       "<ol>\n",
       "<li>\n",
       "<p><strong>Instability of Federal Revenues</strong>: The main source of income for the Treasury, federal revenues, has been characterized by instability, particularly affecting the rum industry, which complicates the establishment of a stable financial framework.</p>\n",
       "</li>\n",
       "<li>\n",
       "<p><strong>Projected Revenue Estimates</strong>: The estimated income for the next fiscal year is projected to be approximately $71,952,338, which aligns with prior estimates from the Planning Board.</p>\n",
       "</li>\n",
       "<li>\n",
       "<p><strong>Public Sentiment and Economic Concerns</strong>: The Auditor of Puerto Rico's report has generated a gloomy outlook on the financial situation, highlighting terms like \"bankruptcy,\" \"insolvency,\" and \"economic disaster,\" which have contributed to public panic among employees.</p>\n",
       "</li>\n",
       "</ol>\n",
       "<h3>Source:</h3>\n",
       "<p>• News Documentation <br>\n",
       "• News Digest <br></p>"
      ],
      "text/plain": [
       "<IPython.core.display.Markdown object>"
      ]
     },
     "metadata": {},
     "output_type": "display_data"
    },
    {
     "name": "stdin",
     "output_type": "stream",
     "text": [
      "\n",
      "You:  Provide details about Puerto Rico’s space exploration program.\n"
     ]
    },
    {
     "name": "stdout",
     "output_type": "stream",
     "text": [
      "AI: \n"
     ]
    },
    {
     "data": {
      "text/markdown": [
       "<h1>About Puerto Rico’s Space Exploration Program</h1>\n",
       "<p>The context provided does not contain specific details about a space exploration program in Puerto Rico. It mentions various engineering and industrial initiatives, but there is no direct reference to space exploration or related activities.</p>\n",
       "<h3>Source:</h3>\n",
       "<p>• News Documentation (general context) <br>\n",
       "• No specific section on space exploration found.</p>"
      ],
      "text/plain": [
       "<IPython.core.display.Markdown object>"
      ]
     },
     "metadata": {},
     "output_type": "display_data"
    },
    {
     "name": "stdin",
     "output_type": "stream",
     "text": [
      "\n",
      "You:  exit\n"
     ]
    },
    {
     "name": "stdout",
     "output_type": "stream",
     "text": [
      "Thanks!\n"
     ]
    }
   ],
   "source": [
    "import openai\n",
    "import markdown\n",
    "from IPython.display import display, Markdown\n",
    "\n",
    "def generate_response_with_openai(query, k=10):\n",
    "    # Search the Top 10 Relevants Chunks in ChromaDB\n",
    "    results = vector_db.similarity_search(query, k=k)\n",
    "    \n",
    "    # Join the Chunk as one Context\n",
    "    context = \"\\n\".join([result.page_content for result in results])\n",
    "    \n",
    "    # Create the Prompt for OpenAI   \n",
    "    # Prepare the messages payload\n",
    "    prompt = build_prompt(query, context)\n",
    "    message = [{'role': 'user', 'content': prompt}]\n",
    "    \n",
    "    #model_params = {'model': gpt_model, 'temperature': 0.4, 'max_tokens': 3000}\n",
    "    \n",
    "    response = openai.chat.completions.create(\n",
    "        messages=message,\n",
    "        model=gpt_model,\n",
    "        temperature=0.4,\n",
    "        max_tokens=3000\n",
    "    )\n",
    "      \n",
    "    return response.choices[0].message.content\n",
    "\n",
    "# ChatBot\n",
    "print('Welcome to Puerto Rico News')\n",
    "print('Enter a question or type \"exit\" to quit. ')\n",
    "while True:\n",
    "    query = input(\"\\nYou: \")\n",
    "    if len(query) > 10:\n",
    "        response = generate_response_with_openai(query)\n",
    "        markdown_response = markdown.markdown(response)\n",
    "        print(\"AI: \")\n",
    "        display(Markdown(markdown_response)) # markdown output\n",
    "    elif query.lower() == 'exit':\n",
    "        break\n",
    "\n",
    "print(\"Thanks!\")"
   ]
  },
  {
   "cell_type": "markdown",
   "id": "022b43b8-44ed-440f-8e39-1624042b52db",
   "metadata": {},
   "source": [
    "# Queries to test model responses\n",
    "\n",
    "1. Basic Fact Checking and Accuracy\n",
    "- Question- Who is the current govenor of Puerto Rico?\n",
    "- Question- What are the main insudtries in Puerto Rico?\n",
    "\n",
    "2. Citation and Source Attribution\n",
    "- Question- Where in the documentation does it say that Puerto Rico has a strong pharmaceutical industry?\n",
    "\n",
    "3. Edge Cases and Robustness\n",
    "- Question- Does Puerto Rico export more coffee or electronics?\n",
    "\n",
    "4. Bias and ethical testing\n",
    "- Question: Is Puerto Rico better off as a U.S. Territory or as an independent country?\n",
    "\n",
    "5. Formatting and response structure\n",
    "- Question: List three key takeaways from Puerto Rico's latest financial report.\n",
    "\n",
    "6. Hallucination Detection\n",
    "- Question: Provide information about Puerto Rico's space program"
   ]
  }
 ],
 "metadata": {
  "kernelspec": {
   "display_name": "Python [conda env:base] *",
   "language": "python",
   "name": "conda-base-py"
  },
  "language_info": {
   "codemirror_mode": {
    "name": "ipython",
    "version": 3
   },
   "file_extension": ".py",
   "mimetype": "text/x-python",
   "name": "python",
   "nbconvert_exporter": "python",
   "pygments_lexer": "ipython3",
   "version": "3.12.7"
  }
 },
 "nbformat": 4,
 "nbformat_minor": 5
}
